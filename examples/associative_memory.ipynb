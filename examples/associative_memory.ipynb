{
 "metadata": {
  "name": ""
 },
 "nbformat": 3,
 "nbformat_minor": 0,
 "worksheets": [
  {
   "cells": [
    {
     "cell_type": "code",
     "collapsed": false,
     "input": [
      "import numpy as np\n",
      "np.random.seed(11)\n",
      "\n",
      "import matplotlib.pyplot as plt\n",
      "\n",
      "import nengo\n",
      "from nengo.networks.associative import AutoAssociative\n",
      "from nengo.utils.distributions import UniformHypersphere\n",
      "from nengo.utils.ensemble import encoders"
     ],
     "language": "python",
     "metadata": {},
     "outputs": []
    },
    {
     "cell_type": "code",
     "collapsed": false,
     "input": [
      "from scipy.linalg import sqrtm, inv\n",
      "\n",
      "def orthonormal(m):\n",
      "    return m.dot(inv(sqrtm(m.T.dot(m)))).real"
     ],
     "language": "python",
     "metadata": {},
     "outputs": []
    },
    {
     "cell_type": "code",
     "collapsed": false,
     "input": [
      "neurons_per_item = 100\n",
      "d_key = 3\n",
      "d_value = 2\n",
      "num_items = d_key * 2\n",
      "period = 2\n",
      "stop_learning = period * num_items"
     ],
     "language": "python",
     "metadata": {},
     "outputs": []
    },
    {
     "cell_type": "code",
     "collapsed": false,
     "input": [
      "def go(d, num_encoders, num_x):\n",
      "    sphere = UniformHypersphere(d, surface=True)\n",
      "    encoders = sphere.sample(num_encoders)\n",
      "    points = sphere.sample(num_x)\n",
      "    s = np.dot(encoders, points.T)\n",
      "    \n",
      "    n = 200\n",
      "    dx = 2.0 / n\n",
      "    x = np.linspace(-1 + dx/2, 1 - dx/2, n)\n",
      "    y = sqrt(1 - x**2)\n",
      "    yi = y**(d - 3)\n",
      "    yi = yi / sum(yi) / dx  # normalize\n",
      "    \n",
      "    title(\"Unit Vector Dot Product Distribution\")\n",
      "    n_, bins, patches = hist(s.flatten(), bins=n-1, normed=True, histtype='step') #, label='d=%d' % d)\n",
      "    plot(x, yi, label='d=%d' % d, linewidth=2, alpha=0.7)\n",
      "    \n",
      "figure()\n",
      "xlabel(\"$x \\cdot e$\")\n",
      "ylabel(\"Probability Density\")\n",
      "xlim(-1, 1)\n",
      "ylim(0, 4)\n",
      "for d in (1, 2, 4, 8, 16, 32, 64):\n",
      "    go(d, 1000, 1000)\n",
      "legend()"
     ],
     "language": "python",
     "metadata": {},
     "outputs": []
    },
    {
     "cell_type": "code",
     "collapsed": false,
     "input": [
      "# Make the desired intercept 45 degrees, so that the influence of each key is entirely non-overlapping\n",
      "desired_intercept = np.cos(np.pi/3)\n",
      "max_capacity = AutoAssociative.calculate_max_capacity(d_key, desired_intercept)\n",
      "n = int(neurons_per_item * max_capacity)\n",
      "print n, max_capacity\n",
      "\n",
      "keys = orthonormal(UniformHypersphere(d_key, surface=True).sample(d_key))\n",
      "keys = np.append(keys, -keys, axis=0)\n",
      "values = UniformHypersphere(d_value).sample(num_items)\n",
      "\n",
      "def iterate_periodically(l, period):\n",
      "    return lambda t: l[(t/period) % len(l)]"
     ],
     "language": "python",
     "metadata": {},
     "outputs": []
    },
    {
     "cell_type": "code",
     "collapsed": false,
     "input": [
      "m = AutoAssociative(n, max_capacity, d_key, d_value, pes_learning_rate=1e-3, voja_learning_rate=5e-3)\n",
      "with m:\n",
      "    key = nengo.Node(output=iterate_periodically(keys, period))\n",
      "    value = nengo.Node(output=iterate_periodically(values, period))\n",
      "    learning = nengo.Node(output=lambda t: t < stop_learning - 0.3)\n",
      "    \n",
      "    nengo.Connection(key, m.key)\n",
      "    nengo.Connection(value, m.value)\n",
      "    nengo.Connection(learning, m.learning)\n",
      "    \n",
      "    filter = 0.05\n",
      "    key_p = nengo.Probe(m.key, filter=filter)\n",
      "    value_p = nengo.Probe(m.value, filter=filter)\n",
      "    learning_p = nengo.Probe(m.learning, filter=filter)\n",
      "    nopamine_p = nengo.Probe(m.nopamine, filter=filter)\n",
      "    \n",
      "    memory_spikes = nengo.Probe(m.memory, \"spikes\")\n",
      "    output_p = nengo.Probe(m.output, filter=filter)    \n",
      "    has_key_p = nengo.Probe(m.has_key, filter=filter)\n",
      "    memory_p = nengo.Probe(m.memory, filter=filter)\n",
      "    error_p = nengo.Probe(m.value_error, filter=filter)\n"
     ],
     "language": "python",
     "metadata": {},
     "outputs": []
    },
    {
     "cell_type": "code",
     "collapsed": false,
     "input": [
      "sim = nengo.Simulator(m)\n",
      "encoders_before = encoders(m.memory, sim)\n",
      "sim.run(2*stop_learning)\n",
      "encoders_after = encoders(m.memory, sim)"
     ],
     "language": "python",
     "metadata": {},
     "outputs": []
    },
    {
     "cell_type": "code",
     "collapsed": false,
     "input": [
      "def proj(u, v):\n",
      "    return np.dot(u, v) / np.dot(u, u) * u\n",
      "\n",
      "def normalize(x):\n",
      "    return x / np.linalg.norm(x)\n",
      "\n",
      "def gram_schmidt(x):\n",
      "    r = []\n",
      "    for v in x:\n",
      "        e = v\n",
      "        for u in r:\n",
      "          e -= proj(u, v)\n",
      "        r.append(e)\n",
      "    return np.array([normalize(e) for e in r])"
     ],
     "language": "python",
     "metadata": {},
     "outputs": []
    },
    {
     "cell_type": "code",
     "collapsed": false,
     "input": [
      "from mpl_toolkits.mplot3d import Axes3D\n",
      "\n",
      "def plot_encoders(title, e, intercept=None):\n",
      "    fig = plt.figure(figsize=(8, 8))\n",
      "    fig.suptitle(title)\n",
      "    ax = plt.axes(projection='3d')\n",
      "    ax.set_xlim(-1, 1)\n",
      "    ax.set_ylim(-1, 1)\n",
      "    ax.set_zlim(-1, 1)\n",
      "    x, y, z = e.T\n",
      "    ax.scatter(x, y, z, c=x+y)\n",
      "    \n",
      "    if intercept is not None:\n",
      "        points = []\n",
      "        for key in keys:\n",
      "            radius = np.sqrt(1 - intercept**2)\n",
      "            circle = gram_schmidt(np.array([key, key+np.array([1, 0, 0]), key+np.array([0, 1, 0])]))\n",
      "            theta = np.arange(0, 2*np.pi, 0.05)\n",
      "            for x, y in zip(np.cos(theta), np.sin(theta)):\n",
      "                for r in np.arange(0, 1, 0.01):\n",
      "                    points.append(normalize(intercept*circle[0] + r*radius*(x*circle[1] + y*circle[2])))\n",
      "        x, y, z = zip(*points)\n",
      "        ax.scatter(x, y, z, s=5, c=x+y, alpha=0.05)\n",
      "    \n",
      "plot_encoders(\"Encoders Before\", encoders_before)\n",
      "plot_encoders(\"Encoders After\", encoders_after, m.intercept)"
     ],
     "language": "python",
     "metadata": {},
     "outputs": []
    },
    {
     "cell_type": "code",
     "collapsed": false,
     "input": [
      "from nengo.utils.matplotlib import rasterplot\n",
      "\n",
      "plt.figure()\n",
      "plt.title('Key')\n",
      "plt.plot(sim.trange(), sim.data[key_p])\n",
      "\n",
      "plt.figure()\n",
      "plt.title('Value')\n",
      "_ = plt.plot(sim.trange(), sim.data[value_p])"
     ],
     "language": "python",
     "metadata": {},
     "outputs": []
    },
    {
     "cell_type": "code",
     "collapsed": false,
     "input": [
      "plt.figure()\n",
      "plt.title('Memory')\n",
      "plt.plot(sim.trange(), sim.data[memory_p])\n",
      "\n",
      "plt.figure(figsize=(6, 16))\n",
      "plt.title('Memory Spikes')\n",
      "_ = rasterplot(sim.trange(), sim.data[memory_spikes])"
     ],
     "language": "python",
     "metadata": {},
     "outputs": []
    },
    {
     "cell_type": "code",
     "collapsed": false,
     "input": [
      "plt.figure()\n",
      "plt.title('Output')\n",
      "plt.plot(sim.trange(), sim.data[output_p])\n",
      "\n",
      "plt.figure()\n",
      "plt.title('Error')\n",
      "plt.plot(sim.trange(), [np.linalg.norm(u - v) for u, v in zip(sim.data[output_p], sim.data[value_p])], label='Error')\n",
      "plt.plot(sim.trange(), sim.data[learning_p], label='Learning')\n",
      "plt.plot(sim.trange(), sim.data[nopamine_p], label='No Learning')\n",
      "_ = plt.legend(loc='best')"
     ],
     "language": "python",
     "metadata": {},
     "outputs": []
    },
    {
     "cell_type": "code",
     "collapsed": false,
     "input": [
      "plt.figure()\n",
      "plt.title('In Set?')\n",
      "_ = plt.plot(sim.trange(), sim.data[has_key_p])"
     ],
     "language": "python",
     "metadata": {},
     "outputs": []
    },
    {
     "cell_type": "code",
     "collapsed": false,
     "input": [],
     "language": "python",
     "metadata": {},
     "outputs": []
    }
   ],
   "metadata": {}
  }
 ]
}